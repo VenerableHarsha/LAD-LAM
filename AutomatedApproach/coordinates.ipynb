{
 "cells": [
  {
   "cell_type": "code",
   "execution_count": 7,
   "metadata": {},
   "outputs": [],
   "source": [
    "import pyautogui\n",
    "import time\n",
    "import pyperclip"
   ]
  },
  {
   "cell_type": "code",
   "execution_count": null,
   "metadata": {},
   "outputs": [
    {
     "name": "stdout",
     "output_type": "stream",
     "text": [
      "Move your mouse over the target area. Press Ctrl + C to stop.\n",
      "Mouse Position: (1670, 72)\n",
      "Mouse Position: (1670, 72)\n",
      "Mouse Position: (1670, 72)\n",
      "Mouse Position: (1676, 66)\n",
      "Mouse Position: (1703, 60)\n",
      "Mouse Position: (1689, 61)\n",
      "Mouse Position: (50, 48)\n",
      "Mouse Position: (1678, 65)\n",
      "Mouse Position: (879, 1025)\n",
      "Mouse Position: (1691, 48)\n",
      "Mouse Position: (1678, 60)\n",
      "Mouse Position: (1678, 60)\n",
      "Mouse Position: (1679, 43)\n",
      "Mouse Position: (162, 741)\n",
      "Mouse Position: (1066, 362)\n",
      "Mouse Position: (1143, 414)\n",
      "Mouse Position: (1143, 414)\n",
      "Mouse Position: (1143, 414)\n",
      "Mouse Position: (421, 706)\n",
      "Mouse Position: (379, 713)\n"
     ]
    }
   ],
   "source": [
    "\n",
    "print(\"Move your mouse over the target area. Press Ctrl + C to stop.\")\n",
    "for i in range(100):\n",
    "    time.sleep(3)\n",
    "    x, y = pyautogui.position()\n",
    "    print(f\"Mouse Position: ({x}, {y})\")  # Overwrites in terminal\n"
   ]
  },
  {
   "cell_type": "code",
   "execution_count": 12,
   "metadata": {},
   "outputs": [],
   "source": [
    "pyautogui.moveTo(1143, 414)\n",
    "time.sleep(2)\n",
    "pyautogui.click()\n",
    "time.sleep(2)\n",
    "pyautogui.hotkey(\"ctrl\",\"a\")\n",
    "time.sleep(1)\n",
    "pyautogui.hotkey(\"ctrl\",\"c\")\n",
    "time.sleep(1)\n"
   ]
  },
  {
   "cell_type": "code",
   "execution_count": 8,
   "metadata": {},
   "outputs": [],
   "source": [
    "pyautogui.moveTo(1143, 414)  # Move to the response area\n",
    "pyautogui.click()\n",
    "time.sleep(0.5)\n",
    "\n",
    "pyautogui.rightClick()  # Open context menu\n",
    "time.sleep(0.5)\n",
    "\n",
    "pyautogui.press(\"down\")  # Navigate to \"Copy\"\n",
    "time.sleep(0.2)\n",
    "pyautogui.press(\"enter\")  # Press \"Copy\"\n",
    "time.sleep(1)\n",
    "\n",
    "code = pyperclip.paste()\n"
   ]
  },
  {
   "cell_type": "code",
   "execution_count": 11,
   "metadata": {},
   "outputs": [],
   "source": [
    "pyautogui.hotkey(\"ctrl\", \"a\")\n"
   ]
  },
  {
   "cell_type": "code",
   "execution_count": null,
   "metadata": {},
   "outputs": [],
   "source": []
  }
 ],
 "metadata": {
  "kernelspec": {
   "display_name": "Python 3",
   "language": "python",
   "name": "python3"
  },
  "language_info": {
   "codemirror_mode": {
    "name": "ipython",
    "version": 3
   },
   "file_extension": ".py",
   "mimetype": "text/x-python",
   "name": "python",
   "nbconvert_exporter": "python",
   "pygments_lexer": "ipython3",
   "version": "3.12.1"
  }
 },
 "nbformat": 4,
 "nbformat_minor": 2
}
